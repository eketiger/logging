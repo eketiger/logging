{
 "cells": [
  {
   "cell_type": "code",
   "execution_count": 1,
   "metadata": {},
   "outputs": [],
   "source": [
    "import pandas as pd\n",
    "import glob"
   ]
  },
  {
   "cell_type": "code",
   "execution_count": 2,
   "metadata": {},
   "outputs": [],
   "source": [
    "filenames = glob.glob('*xlsx')\n"
   ]
  },
  {
   "cell_type": "code",
   "execution_count": 3,
   "metadata": {},
   "outputs": [],
   "source": [
    "listarchivos = [pd.read_excel(archivos) for archivos in filenames]\n",
    "la = listarchivos"
   ]
  },
  {
   "cell_type": "code",
   "execution_count": 21,
   "metadata": {
    "scrolled": true
   },
   "outputs": [],
   "source": [
    "sum_DEPTH = la[0].iloc[:,0].max()\n",
    "\n",
    "# Ver cómo hacer todos los percentiles con un loop.\n",
    "q5_CBL = la[0].iloc[:,1].quantile(.05)\n",
    "q10_CBL = la[0].iloc[:,1].quantile(.1)\n",
    "q15_CBL = la[0].iloc[:,1].quantile(.15)\n",
    "q20_CBL = la[0].iloc[:,1].quantile(.2)\n",
    "q25_CBL = la[0].iloc[:,1].quantile(.25)\n",
    "q30_CBL = la[0].iloc[:,1].quantile(.3)\n",
    "q35_CBL = la[0].iloc[:,1].quantile(.35)\n",
    "q40_CBL = la[0].iloc[:,1].quantile(.4)\n",
    "q45_CBL = la[0].iloc[:,1].quantile(.45)\n",
    "q50_CBL = la[0].iloc[:,1].quantile(.5)\n",
    "q55_CBL = la[0].iloc[:,1].quantile(.55)\n",
    "q60_CBL = la[0].iloc[:,1].quantile(.6)\n",
    "q65_CBL = la[0].iloc[:,1].quantile(.65)\n",
    "q70_CBL = la[0].iloc[:,1].quantile(.7)\n",
    "q75_CBL = la[0].iloc[:,1].quantile(.75)\n",
    "q80_CBL = la[0].iloc[:,1].quantile(.8)\n",
    "q85_CBL = la[0].iloc[:,1].quantile(.85)\n",
    "q90_CBL = la[0].iloc[:,1].quantile(.9)\n",
    "q95_CBL = la[0].iloc[:,1].quantile(.95)\n",
    "\n",
    "# Ver cómo hacer todos los percentiles con un loop.\n",
    "min_CBL = la[0].iloc[:,1].min()\n",
    "max_CBL = la[0].iloc[:,1].max()\n",
    "mean_CBL = la[0].iloc[:,1].mean()"
   ]
  },
  {
   "cell_type": "code",
   "execution_count": 25,
   "metadata": {},
   "outputs": [
    {
     "data": {
      "text/plain": [
       "29.099999999999998"
      ]
     },
     "execution_count": 25,
     "metadata": {},
     "output_type": "execute_result"
    }
   ],
   "source": [
    "# append? para ir armando la serie?. Cada uno de los archivos daría como resultado una serie. Al final se arma un data frame con todas las series."
   ]
  },
  {
   "cell_type": "code",
   "execution_count": 31,
   "metadata": {
    "scrolled": true
   },
   "outputs": [
    {
     "data": {
      "text/plain": [
       "3"
      ]
     },
     "execution_count": 31,
     "metadata": {},
     "output_type": "execute_result"
    }
   ],
   "source": [
    "la[0].loc[:,'Edad'].min()"
   ]
  },
  {
   "cell_type": "code",
   "execution_count": 38,
   "metadata": {},
   "outputs": [
    {
     "data": {
      "text/plain": [
       "3"
      ]
     },
     "execution_count": 38,
     "metadata": {},
     "output_type": "execute_result"
    }
   ],
   "source": [
    "la[0]['Edad'].min()"
   ]
  },
  {
   "cell_type": "code",
   "execution_count": 27,
   "metadata": {},
   "outputs": [
    {
     "data": {
      "text/html": [
       "<div>\n",
       "<style scoped>\n",
       "    .dataframe tbody tr th:only-of-type {\n",
       "        vertical-align: middle;\n",
       "    }\n",
       "\n",
       "    .dataframe tbody tr th {\n",
       "        vertical-align: top;\n",
       "    }\n",
       "\n",
       "    .dataframe thead th {\n",
       "        text-align: right;\n",
       "    }\n",
       "</style>\n",
       "<table border=\"1\" class=\"dataframe\">\n",
       "  <thead>\n",
       "    <tr style=\"text-align: right;\">\n",
       "      <th></th>\n",
       "      <th>Nombre</th>\n",
       "      <th>Edad</th>\n",
       "    </tr>\n",
       "  </thead>\n",
       "  <tbody>\n",
       "    <tr>\n",
       "      <th>0</th>\n",
       "      <td>Ezequiel</td>\n",
       "      <td>30</td>\n",
       "    </tr>\n",
       "    <tr>\n",
       "      <th>1</th>\n",
       "      <td>Ailén</td>\n",
       "      <td>27</td>\n",
       "    </tr>\n",
       "    <tr>\n",
       "      <th>2</th>\n",
       "      <td>Floki</td>\n",
       "      <td>3</td>\n",
       "    </tr>\n",
       "    <tr>\n",
       "      <th>3</th>\n",
       "      <td>Bebeshito</td>\n",
       "      <td>3</td>\n",
       "    </tr>\n",
       "    <tr>\n",
       "      <th>4</th>\n",
       "      <td>Ailu</td>\n",
       "      <td>27</td>\n",
       "    </tr>\n",
       "    <tr>\n",
       "      <th>5</th>\n",
       "      <td>El halcón milenario</td>\n",
       "      <td>3</td>\n",
       "    </tr>\n",
       "    <tr>\n",
       "      <th>6</th>\n",
       "      <td>Fibonacci</td>\n",
       "      <td>4</td>\n",
       "    </tr>\n",
       "  </tbody>\n",
       "</table>\n",
       "</div>"
      ],
      "text/plain": [
       "                Nombre  Edad\n",
       "0             Ezequiel    30\n",
       "1                Ailén    27\n",
       "2                Floki     3\n",
       "3            Bebeshito     3\n",
       "4                 Ailu    27\n",
       "5  El halcón milenario     3\n",
       "6            Fibonacci     4"
      ]
     },
     "execution_count": 27,
     "metadata": {},
     "output_type": "execute_result"
    }
   ],
   "source": [
    "la[0]"
   ]
  },
  {
   "cell_type": "code",
   "execution_count": null,
   "metadata": {},
   "outputs": [],
   "source": []
  },
  {
   "cell_type": "code",
   "execution_count": null,
   "metadata": {},
   "outputs": [],
   "source": [
    "for dataframe, filename in zip(df, filenames):\n",
    "  dataframe[filename] = filename\n",
    "df[0]"
   ]
  },
  {
   "cell_type": "code",
   "execution_count": null,
   "metadata": {},
   "outputs": [],
   "source": [
    "df = pd.DataFrame(df[0]['Nombre'])\n",
    "df"
   ]
  },
  {
   "cell_type": "code",
   "execution_count": null,
   "metadata": {},
   "outputs": [],
   "source": [
    "type(df)"
   ]
  },
  {
   "cell_type": "code",
   "execution_count": null,
   "metadata": {},
   "outputs": [],
   "source": [
    "nombre_lista_1 = ['']\n",
    "\n",
    "\n",
    "WellDataSet = list(zip('nombre_lista_1', 'nombre_lista_2', 'nombre_lista_n'))\n",
    "df_final = pd.DataFrame(data = WellDataSet, columns=['nombres de cada uno de los archivos', 'n2', 'n3'])"
   ]
  }
 ],
 "metadata": {
  "kernelspec": {
   "display_name": "Python 3",
   "language": "python",
   "name": "python3"
  },
  "language_info": {
   "codemirror_mode": {
    "name": "ipython",
    "version": 3
   },
   "file_extension": ".py",
   "mimetype": "text/x-python",
   "name": "python",
   "nbconvert_exporter": "python",
   "pygments_lexer": "ipython3",
   "version": "3.6.5"
  }
 },
 "nbformat": 4,
 "nbformat_minor": 2
}
