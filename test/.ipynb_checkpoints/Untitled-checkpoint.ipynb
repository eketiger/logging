{
 "cells": [
  {
   "cell_type": "code",
   "execution_count": 6,
   "metadata": {},
   "outputs": [
    {
     "ename": "TypeError",
     "evalue": "Index(...) must be called with a collection of some kind, 'YPF.SC.CS-2129_CBL-VDL_11-DIC-17.las' was passed",
     "output_type": "error",
     "traceback": [
      "\u001b[0;31m---------------------------------------------------------------------------\u001b[0m",
      "\u001b[0;31mTypeError\u001b[0m                                 Traceback (most recent call last)",
      "\u001b[0;32m<ipython-input-6-65cdd0876fb6>\u001b[0m in \u001b[0;36m<module>\u001b[0;34m()\u001b[0m\n\u001b[1;32m     61\u001b[0m         \u001b[0mvalues\u001b[0m\u001b[0;34m.\u001b[0m\u001b[0mappend\u001b[0m\u001b[0;34m(\u001b[0m\u001b[0mdf_new\u001b[0m\u001b[0;34m[\u001b[0m\u001b[0;34m'AMP3FT'\u001b[0m\u001b[0;34m]\u001b[0m\u001b[0;34m.\u001b[0m\u001b[0mquantile\u001b[0m\u001b[0;34m(\u001b[0m\u001b[0mq\u001b[0m\u001b[0;34m/\u001b[0m\u001b[0;36m100\u001b[0m\u001b[0;34m)\u001b[0m\u001b[0;34m)\u001b[0m \u001b[0;31m# función que agrega el valor calculado del cuantil a la lista values.\u001b[0m\u001b[0;34m\u001b[0m\u001b[0m\n\u001b[1;32m     62\u001b[0m \u001b[0;34m\u001b[0m\u001b[0m\n\u001b[0;32m---> 63\u001b[0;31m     \u001b[0mdf_final\u001b[0m \u001b[0;34m=\u001b[0m \u001b[0mpd\u001b[0m\u001b[0;34m.\u001b[0m\u001b[0mDataFrame\u001b[0m\u001b[0;34m(\u001b[0m\u001b[0mvalues\u001b[0m\u001b[0;34m,\u001b[0m \u001b[0mindex\u001b[0m\u001b[0;34m=\u001b[0m\u001b[0mkey\u001b[0m\u001b[0;34m,\u001b[0m \u001b[0mcolumns\u001b[0m\u001b[0;34m=\u001b[0m\u001b[0marchivos_las\u001b[0m\u001b[0;34m[\u001b[0m\u001b[0mn\u001b[0m\u001b[0;34m]\u001b[0m\u001b[0;34m)\u001b[0m \u001b[0;31m# se genera un dataframe con los valores de la lista values y los indices de la lista key. Ver cómo trasponer.\u001b[0m\u001b[0;34m\u001b[0m\u001b[0m\n\u001b[0m\u001b[1;32m     64\u001b[0m     \u001b[0mdf_final_2\u001b[0m \u001b[0;34m=\u001b[0m \u001b[0mdf_final\u001b[0m\u001b[0;34m.\u001b[0m\u001b[0mT\u001b[0m \u001b[0;31m# se muestra el dataframe.\u001b[0m\u001b[0;34m\u001b[0m\u001b[0m\n\u001b[1;32m     65\u001b[0m     \u001b[0mdf_final_2\u001b[0m\u001b[0;34m\u001b[0m\u001b[0m\n",
      "\u001b[0;32m/Library/Frameworks/Python.framework/Versions/3.6/lib/python3.6/site-packages/pandas/core/frame.py\u001b[0m in \u001b[0;36m__init__\u001b[0;34m(self, data, index, columns, dtype, copy)\u001b[0m\n\u001b[1;32m    401\u001b[0m                 \u001b[0;32melse\u001b[0m\u001b[0;34m:\u001b[0m\u001b[0;34m\u001b[0m\u001b[0m\n\u001b[1;32m    402\u001b[0m                     mgr = self._init_ndarray(data, index, columns, dtype=dtype,\n\u001b[0;32m--> 403\u001b[0;31m                                              copy=copy)\n\u001b[0m\u001b[1;32m    404\u001b[0m             \u001b[0;32melse\u001b[0m\u001b[0;34m:\u001b[0m\u001b[0;34m\u001b[0m\u001b[0m\n\u001b[1;32m    405\u001b[0m                 \u001b[0mmgr\u001b[0m \u001b[0;34m=\u001b[0m \u001b[0mself\u001b[0m\u001b[0;34m.\u001b[0m\u001b[0m_init_dict\u001b[0m\u001b[0;34m(\u001b[0m\u001b[0;34m{\u001b[0m\u001b[0;34m}\u001b[0m\u001b[0;34m,\u001b[0m \u001b[0mindex\u001b[0m\u001b[0;34m,\u001b[0m \u001b[0mcolumns\u001b[0m\u001b[0;34m,\u001b[0m \u001b[0mdtype\u001b[0m\u001b[0;34m=\u001b[0m\u001b[0mdtype\u001b[0m\u001b[0;34m)\u001b[0m\u001b[0;34m\u001b[0m\u001b[0m\n",
      "\u001b[0;32m/Library/Frameworks/Python.framework/Versions/3.6/lib/python3.6/site-packages/pandas/core/frame.py\u001b[0m in \u001b[0;36m_init_ndarray\u001b[0;34m(self, values, index, columns, dtype, copy)\u001b[0m\n\u001b[1;32m    525\u001b[0m                     \u001b[0mraise_with_traceback\u001b[0m\u001b[0;34m(\u001b[0m\u001b[0me\u001b[0m\u001b[0;34m)\u001b[0m\u001b[0;34m\u001b[0m\u001b[0m\n\u001b[1;32m    526\u001b[0m \u001b[0;34m\u001b[0m\u001b[0m\n\u001b[0;32m--> 527\u001b[0;31m         \u001b[0mindex\u001b[0m\u001b[0;34m,\u001b[0m \u001b[0mcolumns\u001b[0m \u001b[0;34m=\u001b[0m \u001b[0m_get_axes\u001b[0m\u001b[0;34m(\u001b[0m\u001b[0;34m*\u001b[0m\u001b[0mvalues\u001b[0m\u001b[0;34m.\u001b[0m\u001b[0mshape\u001b[0m\u001b[0;34m)\u001b[0m\u001b[0;34m\u001b[0m\u001b[0m\n\u001b[0m\u001b[1;32m    528\u001b[0m         \u001b[0mvalues\u001b[0m \u001b[0;34m=\u001b[0m \u001b[0mvalues\u001b[0m\u001b[0;34m.\u001b[0m\u001b[0mT\u001b[0m\u001b[0;34m\u001b[0m\u001b[0m\n\u001b[1;32m    529\u001b[0m \u001b[0;34m\u001b[0m\u001b[0m\n",
      "\u001b[0;32m/Library/Frameworks/Python.framework/Versions/3.6/lib/python3.6/site-packages/pandas/core/frame.py\u001b[0m in \u001b[0;36m_get_axes\u001b[0;34m(N, K, index, columns)\u001b[0m\n\u001b[1;32m    487\u001b[0m                 \u001b[0mcolumns\u001b[0m \u001b[0;34m=\u001b[0m \u001b[0mcom\u001b[0m\u001b[0;34m.\u001b[0m\u001b[0m_default_index\u001b[0m\u001b[0;34m(\u001b[0m\u001b[0mK\u001b[0m\u001b[0;34m)\u001b[0m\u001b[0;34m\u001b[0m\u001b[0m\n\u001b[1;32m    488\u001b[0m             \u001b[0;32melse\u001b[0m\u001b[0;34m:\u001b[0m\u001b[0;34m\u001b[0m\u001b[0m\n\u001b[0;32m--> 489\u001b[0;31m                 \u001b[0mcolumns\u001b[0m \u001b[0;34m=\u001b[0m \u001b[0m_ensure_index\u001b[0m\u001b[0;34m(\u001b[0m\u001b[0mcolumns\u001b[0m\u001b[0;34m)\u001b[0m\u001b[0;34m\u001b[0m\u001b[0m\n\u001b[0m\u001b[1;32m    490\u001b[0m             \u001b[0;32mreturn\u001b[0m \u001b[0mindex\u001b[0m\u001b[0;34m,\u001b[0m \u001b[0mcolumns\u001b[0m\u001b[0;34m\u001b[0m\u001b[0m\n\u001b[1;32m    491\u001b[0m \u001b[0;34m\u001b[0m\u001b[0m\n",
      "\u001b[0;32m/Library/Frameworks/Python.framework/Versions/3.6/lib/python3.6/site-packages/pandas/core/indexes/base.py\u001b[0m in \u001b[0;36m_ensure_index\u001b[0;34m(index_like, copy)\u001b[0m\n\u001b[1;32m   4956\u001b[0m             \u001b[0mindex_like\u001b[0m \u001b[0;34m=\u001b[0m \u001b[0mcopy\u001b[0m\u001b[0;34m(\u001b[0m\u001b[0mindex_like\u001b[0m\u001b[0;34m)\u001b[0m\u001b[0;34m\u001b[0m\u001b[0m\n\u001b[1;32m   4957\u001b[0m \u001b[0;34m\u001b[0m\u001b[0m\n\u001b[0;32m-> 4958\u001b[0;31m     \u001b[0;32mreturn\u001b[0m \u001b[0mIndex\u001b[0m\u001b[0;34m(\u001b[0m\u001b[0mindex_like\u001b[0m\u001b[0;34m)\u001b[0m\u001b[0;34m\u001b[0m\u001b[0m\n\u001b[0m\u001b[1;32m   4959\u001b[0m \u001b[0;34m\u001b[0m\u001b[0m\n\u001b[1;32m   4960\u001b[0m \u001b[0;34m\u001b[0m\u001b[0m\n",
      "\u001b[0;32m/Library/Frameworks/Python.framework/Versions/3.6/lib/python3.6/site-packages/pandas/core/indexes/base.py\u001b[0m in \u001b[0;36m__new__\u001b[0;34m(cls, data, dtype, copy, name, fastpath, tupleize_cols, **kwargs)\u001b[0m\n\u001b[1;32m    423\u001b[0m                          **kwargs)\n\u001b[1;32m    424\u001b[0m         \u001b[0;32melif\u001b[0m \u001b[0mdata\u001b[0m \u001b[0;32mis\u001b[0m \u001b[0;32mNone\u001b[0m \u001b[0;32mor\u001b[0m \u001b[0mis_scalar\u001b[0m\u001b[0;34m(\u001b[0m\u001b[0mdata\u001b[0m\u001b[0;34m)\u001b[0m\u001b[0;34m:\u001b[0m\u001b[0;34m\u001b[0m\u001b[0m\n\u001b[0;32m--> 425\u001b[0;31m             \u001b[0mcls\u001b[0m\u001b[0;34m.\u001b[0m\u001b[0m_scalar_data_error\u001b[0m\u001b[0;34m(\u001b[0m\u001b[0mdata\u001b[0m\u001b[0;34m)\u001b[0m\u001b[0;34m\u001b[0m\u001b[0m\n\u001b[0m\u001b[1;32m    426\u001b[0m         \u001b[0;32melse\u001b[0m\u001b[0;34m:\u001b[0m\u001b[0;34m\u001b[0m\u001b[0m\n\u001b[1;32m    427\u001b[0m             \u001b[0;32mif\u001b[0m \u001b[0mtupleize_cols\u001b[0m \u001b[0;32mand\u001b[0m \u001b[0mis_list_like\u001b[0m\u001b[0;34m(\u001b[0m\u001b[0mdata\u001b[0m\u001b[0;34m)\u001b[0m \u001b[0;32mand\u001b[0m \u001b[0mdata\u001b[0m\u001b[0;34m:\u001b[0m\u001b[0;34m\u001b[0m\u001b[0m\n",
      "\u001b[0;32m/Library/Frameworks/Python.framework/Versions/3.6/lib/python3.6/site-packages/pandas/core/indexes/base.py\u001b[0m in \u001b[0;36m_scalar_data_error\u001b[0;34m(cls, data)\u001b[0m\n\u001b[1;32m    881\u001b[0m         raise TypeError('{0}(...) must be called with a collection of some '\n\u001b[1;32m    882\u001b[0m                         'kind, {1} was passed'.format(cls.__name__,\n\u001b[0;32m--> 883\u001b[0;31m                                                       repr(data)))\n\u001b[0m\u001b[1;32m    884\u001b[0m \u001b[0;34m\u001b[0m\u001b[0m\n\u001b[1;32m    885\u001b[0m     \u001b[0;34m@\u001b[0m\u001b[0mclassmethod\u001b[0m\u001b[0;34m\u001b[0m\u001b[0m\n",
      "\u001b[0;31mTypeError\u001b[0m: Index(...) must be called with a collection of some kind, 'YPF.SC.CS-2129_CBL-VDL_11-DIC-17.las' was passed"
     ]
    }
   ],
   "source": [
    "import pandas as pd # se importa el modulo pandas para manejo de dataframes.\n",
    "import glob         # Importa libreria para manejo de archivos con cierto pathname definido\n",
    "import lasio        # Permite ejecutar unas conversión sobre archivos con extensión .las\n",
    "\n",
    "# -----------------------------------------------------------------------------------------------------------------------------------------------------------------------\n",
    "\n",
    "archivos_las = glob.glob('*.las') # genera una lista con todos los .las de la carpeta\n",
    "frames = []\n",
    "\n",
    "# -----------------------------------------------------------------------------------------------------------------------------------------------------------------------\n",
    "\n",
    "for n in range(0, len(archivos_las)): # loop que permite recorrer todos los archivos\n",
    "    df = lasio.read(archivos_las[n]).df() # genera un dataframe por cada archivo\n",
    "    df.reset_index(level=0, inplace=True)\n",
    "    x = 0 # se establece el valor cero de inicio a la variable x.\n",
    "    mV = 20 # se define el valor de amplitud para el cual se considera el tope de cemento.\n",
    "    \n",
    "    paso = [] # se define la lista paso vacía (Sería más reocmendable generar una Serie de pandas)\n",
    "\n",
    "    for o in range(0, len(df.DEPT)-1): # se hace un loop sobre la lista para generar la columna paso.\n",
    "        paso.append(df.DEPT[o+1] - df.DEPT[o])\n",
    "\n",
    "    paso.append(paso[len(paso)-1]) # se genera el último valor de la lista para que paso tenga la misma cantidad de items que las otras columnas\n",
    "\n",
    "    s = pd.Series(paso)\n",
    "\n",
    "    df2 = pd.concat([df,s], axis=1) # agrega la Serie: paso, al dataframe df y se reemplaza el nombre.\n",
    "\n",
    "    # df2.DEPT es la lista DEPT del dataframe df, en realidad serie de pandas DEPT\n",
    "    # df2.CBL (AMP3FT) es la lista CBL del dataframe df, en realidad serie de pandas CBL.\n",
    "\n",
    "    for i in range(0, len(df2.DEPT)): # empiezo un loop de cero a la longitud de la lista CBL.\n",
    "        if df2.AMP3FT[i] <= mV and x < 3: # genero dos condiciones x < 3 (este valor puede cambiar), y el CBL menor o igual al definido (este valor también puede cambiar).\n",
    "            x = x + df2[0][i] # sumo un paso al valor de la variable x cada que ve que se cumple la condición anterior.\n",
    "            y = i # la variable y adopta el valor más actual de i.\n",
    "            # print(y, x), para verificar cómo avanza el loop y comprobar errores.\n",
    "        elif df2.AMP3FT[i] > mV and x < 3: # genero otras dos condiciones por si no se cumplen las anteriores. En este caso si el CBL es mayor al estabelcido, x vuelve a cero.\n",
    "            x = 0 # si el valor del CBL es mayor al establecido como bueno, la cuenta vuelve a cero.\n",
    "            # y = i, para verificar cómo avanza el loop y comprobar errores.\n",
    "            # print(y, x), para verificar cómo avanza el loop y comprobar errores.\n",
    "        else:\n",
    "            break # si no se cumplen ninguna de las condiciones anteriores, el loop rompe.\n",
    "\n",
    "    # Una vez que el loop rompe, tengo el valor de y = i de la iteración en la cual se cumplen x (en este caso 3) metros.\n",
    "    # Por lo tanto x será 3 o más, i será el nñumero de iteración que cumple con x = 3 o más.\n",
    "\n",
    "    z = y - int(x / ((df2[0][i]) - 1)) # z es el valor donde la función comienza a cumplirse.\n",
    "    # toc = df2.DEPT[z] es el tope de cemento definido.\n",
    "\n",
    "    df_new = df2[z:len(df2)] # genero un dataframe en el que se eliminan los valores superiores al toc: tope de cemento.\n",
    "    df_new # visualizo el dataframe generado.\n",
    "\n",
    "    key = ['mean', 'max', 'min', 'q5', 'q10', 'q15', 'q20', 'q25', 'q30', 'q35', 'q40', 'q45', 'q50', 'q55', 'q60', 'q65', 'q70', 'q75', 'q80', 'q85', 'q90', 'q95'] \n",
    "    # lista con cuantiles generados\n",
    "    values = [] # se genera una lista vacia que se ira llenando a medida que el loop avance\n",
    "    values.append(df_new['AMP3FT'].mean()) # agrega la media a la lista values.\n",
    "    values.append(df_new['AMP3FT'].max()) # agrega el valor máximo a la lista values.\n",
    "    values.append(df_new['AMP3FT'].min()) # agrega el valor mínimo a la lista values.\n",
    "\n",
    "    for q in range(5,100,5): # loop desde 5 a 100 con paso 5 para los distintos cuantiles.\n",
    "        values.append(df_new['AMP3FT'].quantile(q/100)) # función que agrega el valor calculado del cuantil a la lista values.\n",
    "\n",
    "    df_final = pd.DataFrame(values, index=key, columns=[archivos_las[n]]) # se genera un dataframe con los valores de la lista values y los indices de la lista key. Ver cómo trasponer.\n",
    "    df_final_2 = df_final.T # se muestra el dataframe.\n",
    "    df_final_2"
   ]
  },
  {
   "cell_type": "code",
   "execution_count": null,
   "metadata": {},
   "outputs": [],
   "source": []
  }
 ],
 "metadata": {
  "kernelspec": {
   "display_name": "Python 3",
   "language": "python",
   "name": "python3"
  },
  "language_info": {
   "codemirror_mode": {
    "name": "ipython",
    "version": 3
   },
   "file_extension": ".py",
   "mimetype": "text/x-python",
   "name": "python",
   "nbconvert_exporter": "python",
   "pygments_lexer": "ipython3",
   "version": "3.6.5"
  }
 },
 "nbformat": 4,
 "nbformat_minor": 2
}
