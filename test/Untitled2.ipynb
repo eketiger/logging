{
 "cells": [
  {
   "cell_type": "code",
   "execution_count": 5,
   "metadata": {
    "scrolled": true
   },
   "outputs": [
    {
     "data": {
      "text/plain": [
       "['YPF.SC.CS-2129_CBL-VDL_11-DIC-17.xlsx']"
      ]
     },
     "execution_count": 5,
     "metadata": {},
     "output_type": "execute_result"
    }
   ],
   "source": [
    "import pandas as pd # se importa el modulo pandas para manejo de dataframes.\n",
    "import glob         # Importa libreria para manejo de archivos con cierto pathname definido\n",
    "\n",
    "archivos_excel = glob.glob('YPF*.xlsx') # genera una lista con todos los .xlsx de la carpeta\n",
    "archivos_excel"
   ]
  },
  {
   "cell_type": "code",
   "execution_count": 6,
   "metadata": {},
   "outputs": [],
   "source": [
    "for n in range(0, len(archivos_excel)): # loop que permite recorrer todos los archivos\n",
    "    df = pd.read_excel(archivos_excel[n], 'Curves') # genera un dataframe\n",
    "    x = 0 # se establece el valor cero de inicio a la variable x.\n",
    "    mV = 20 # se define el valor de amplitud para el cual se considera el tope de cemento.\n",
    "    \n",
    "    paso = []"
   ]
  },
  {
   "cell_type": "code",
   "execution_count": null,
   "metadata": {},
   "outputs": [],
   "source": []
  }
 ],
 "metadata": {
  "kernelspec": {
   "display_name": "Python 3",
   "language": "python",
   "name": "python3"
  },
  "language_info": {
   "codemirror_mode": {
    "name": "ipython",
    "version": 3
   },
   "file_extension": ".py",
   "mimetype": "text/x-python",
   "name": "python",
   "nbconvert_exporter": "python",
   "pygments_lexer": "ipython3",
   "version": "3.6.5"
  }
 },
 "nbformat": 4,
 "nbformat_minor": 2
}
